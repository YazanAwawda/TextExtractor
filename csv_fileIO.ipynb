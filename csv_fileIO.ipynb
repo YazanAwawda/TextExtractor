{
 "cells": [
  {
   "cell_type": "code",
   "execution_count": 291,
   "id": "2a4525b3",
   "metadata": {},
   "outputs": [],
   "source": [
    "import pandas as pd "
   ]
  },
  {
   "cell_type": "code",
   "execution_count": 292,
   "id": "6086bfdc",
   "metadata": {},
   "outputs": [],
   "source": [
    "df = pd.read_csv('C:\\\\Users\\\\Yazan\\\\Desktop\\\\psNo\\\\business.csv', sep='\\t' , encoding='utf-8')"
   ]
  },
  {
   "cell_type": "code",
   "execution_count": 293,
   "id": "39d195b4",
   "metadata": {},
   "outputs": [],
   "source": [
    "df.rename(columns = {'Database of Registered Palestinian Companies / Businesses\\n* Note: For calling Palestine from abroad, dial 00970-(followed by phone number with initial zero deleted).,,,,,,,,,,' : 'Yazan' } ,inplace = True)"
   ]
  },
  {
   "cell_type": "code",
   "execution_count": 294,
   "id": "580d0e33",
   "metadata": {},
   "outputs": [
    {
     "data": {
      "text/html": [
       "<div>\n",
       "<style scoped>\n",
       "    .dataframe tbody tr th:only-of-type {\n",
       "        vertical-align: middle;\n",
       "    }\n",
       "\n",
       "    .dataframe tbody tr th {\n",
       "        vertical-align: top;\n",
       "    }\n",
       "\n",
       "    .dataframe thead th {\n",
       "        text-align: right;\n",
       "    }\n",
       "</style>\n",
       "<table border=\"1\" class=\"dataframe\">\n",
       "  <thead>\n",
       "    <tr style=\"text-align: right;\">\n",
       "      <th></th>\n",
       "      <th>Yazan</th>\n",
       "    </tr>\n",
       "  </thead>\n",
       "  <tbody>\n",
       "    <tr>\n",
       "      <th>0</th>\n",
       "      <td>Economical\\nOrganaization Name         Manager...</td>\n",
       "    </tr>\n",
       "    <tr>\n",
       "      <th>1</th>\n",
       "      <td>Al Marah Commercial and Induustrial Company,Gh...</td>\n",
       "    </tr>\n",
       "    <tr>\n",
       "      <th>2</th>\n",
       "      <td>Middle East Company,,022552545,,0599030084,,,\"...</td>\n",
       "    </tr>\n",
       "    <tr>\n",
       "      <th>3</th>\n",
       "      <td>thoium ores\",Excellent,Commercial,Hebron</td>\n",
       "    </tr>\n",
       "    <tr>\n",
       "      <th>4</th>\n",
       "      <td>Canaan International Group,Hesham Albakri,0262...</td>\n",
       "    </tr>\n",
       "  </tbody>\n",
       "</table>\n",
       "</div>"
      ],
      "text/plain": [
       "                                               Yazan\n",
       "0  Economical\\nOrganaization Name         Manager...\n",
       "1  Al Marah Commercial and Induustrial Company,Gh...\n",
       "2  Middle East Company,,022552545,,0599030084,,,\"...\n",
       "3           thoium ores\",Excellent,Commercial,Hebron\n",
       "4  Canaan International Group,Hesham Albakri,0262..."
      ]
     },
     "execution_count": 294,
     "metadata": {},
     "output_type": "execute_result"
    }
   ],
   "source": [
    "df.head()"
   ]
  },
  {
   "cell_type": "code",
   "execution_count": 296,
   "id": "97fa1ab8",
   "metadata": {},
   "outputs": [
    {
     "name": "stdout",
     "output_type": "stream",
     "text": [
      "0     Economical\\nOrganaization Name         Manager...\n",
      "1     Al Marah Commercial and Induustrial Company,Gh...\n",
      "2     Middle East Company,,022552545,,0599030084,,,\"...\n",
      "3              thoium ores\",Excellent,Commercial,Hebron\n",
      "4     Canaan International Group,Hesham Albakri,0262...\n",
      "5     Al-Etihad Ready Mixed Concrete Co.,Michael  S ...\n",
      "6     Al-Jerashi Investment Group Co.,Khader  Nemer ...\n",
      "7     Merg Al-Guzlan Concrete Co. Ltd.,,022746313,02...\n",
      "8     Zalloum Co.For Construction. Ltd,Naeem A. Zall...\n",
      "9     Al-Wakeel for Ready Mix Concreat,Louai T.J Jab...\n",
      "10    Al-Ameer Real Estate & Investment Co.,Elyas Sh...\n",
      "11    Alawdah Ready Mix Concrete,Fadi  S. M Ramadan,...\n",
      "12    Al Qotob Co. For Ready Concrete,,092380488,092...\n",
      "13    Abdul Rahman I A Alareh & Fadi A I Alareh,Abdu...\n",
      "14    Al Dwaikat Ready Concrete Co.,,,,0569939747,,,...\n",
      "15    Al Aabed Company for Construction Industries,A...\n",
      "16    Al Halayqa Company for Construction and Contra...\n",
      "17    Wahdan for Ready Cement Companny,Motasem Abu M...\n",
      "18    International Co.,Akram  M.  J. Qandeel,022986...\n",
      "19    Altarefe Ready mix Concrete Company,Jama  M.  ...\n",
      "Name: Yazan, dtype: object\n"
     ]
    }
   ],
   "source": [
    "print(df['Yazan'])"
   ]
  },
  {
   "cell_type": "code",
   "execution_count": 297,
   "id": "5380c11c",
   "metadata": {},
   "outputs": [],
   "source": [
    "df['Yazan'].to_csv('PS_Lacked04.txt', sep=\"\\n\", index=False)\n"
   ]
  },
  {
   "cell_type": "code",
   "execution_count": 298,
   "id": "0c86652c",
   "metadata": {
    "scrolled": true
   },
   "outputs": [
    {
     "name": "stdout",
     "output_type": "stream",
     "text": [
      "Al Marah Commercial and Induustrial Company,Ghassan  N.  A. Jabarin,042414028,042414307,0599204590,,,Mining of ferrous metal ores,Excellent,Commercial,Jenin\n",
      "\"Middle East Company,,022552545,,0599030084,,,\"\"Mining of nonferrous metal ores, except uranium and\"\n",
      "Al-Etihad Ready Mixed Concrete Co.,Michael  S M Jarad,022741004,022767969,0599353535,salimjarad@gmail.com,,Ready-made concrete,Excellent,Industrial,Bethlehem\n",
      "Al-Jerashi Investment Group Co.,Khader  Nemer Abdallah AlJerashi,022744141,022740110,0599465464,jerashi@palnet.com,,,Special,Industrial,Bethlehem\n",
      "Merg Al-Guzlan Concrete Co. Ltd.,,022746313,022746313,0598950422,ala_musleh@hotmail.com,,,Excellent,Industrial,Bethlehem\n",
      "Zalloum Co.For Construction. Ltd,Naeem A. Zalloum,022233557,022233559,0599201535,free24pal@yahoo.com,,,Special,Industrial,Hebron\n",
      "Al-Wakeel for Ready Mix Concreat,Louai T.J Jabari,022284244,022284243,0599774403,alza3em2005_7_@hotmail.com,,,Excellent,Industrial,Hebron\n",
      "Al-Ameer Real Estate & Investment Co.,Elyas Sh.E Taha,022224324,022252561,0599209850,taha@yahoo.com,,,Special,Industrial,Hebron\n",
      "Alawdah Ready Mix Concrete,Fadi  S. M Ramadan,022322123,022322124,059376002,fadialjerashi@yahoo.com,,,Excellent,Industrial,Jericho\n",
      "Al Qotob Co. For Ready Concrete,,092380488,092380488,0599300084,,,,First,Industrial,Nablus\n",
      "Abdul Rahman I A Alareh & Fadi A I Alareh,Abdul Rahman I A Alareh,023111889,023111889,0599719656,,,,Excellent,Industrial,Nablus\n",
      "Al Aabed Company for Construction Industries,ABED A. A. SAMAMQA,022759025,022759027,0599292466,info@al-aabed.com,http://www.al-aabed.com,,Special,Industrial,North Hebron\n",
      "Al Halayqa Company for Construction and Contracting,,022745757,022747805,0599299000,muhaned@halaika.com,,,Excellent,Industrial,North Hebron\n",
      "International Co.,Akram  M.  J. Qandeel,022986039,022962608,0599258204,info@qandeel.ps,www.qandeel.ps,,Excellent,Industrial,Ramallah\n"
     ]
    }
   ],
   "source": [
    "import re\n",
    "file_path = 'PS_Lacked04.txt'\n",
    "with open(file_path, 'r') as text_file:\n",
    "    for line in text_file:\n",
    "        # Use regular expression to match lines based on a pattern\n",
    "        if re.search(r'059', line, re.IGNORECASE):\n",
    "            print(line.strip())\n",
    "#                if line.startswith(r'059'):\n",
    "#                      print(line.strip())"
   ]
  },
  {
   "cell_type": "code",
   "execution_count": null,
   "id": "652dc8cf",
   "metadata": {},
   "outputs": [],
   "source": []
  },
  {
   "cell_type": "code",
   "execution_count": null,
   "id": "e678fa4f",
   "metadata": {
    "scrolled": true
   },
   "outputs": [],
   "source": []
  },
  {
   "cell_type": "code",
   "execution_count": null,
   "id": "71477ce8",
   "metadata": {},
   "outputs": [],
   "source": []
  },
  {
   "cell_type": "code",
   "execution_count": null,
   "id": "7216af02",
   "metadata": {},
   "outputs": [],
   "source": []
  },
  {
   "cell_type": "code",
   "execution_count": null,
   "id": "8d5a0fd8",
   "metadata": {},
   "outputs": [],
   "source": []
  },
  {
   "cell_type": "code",
   "execution_count": null,
   "id": "7e7ab132",
   "metadata": {},
   "outputs": [],
   "source": []
  }
 ],
 "metadata": {
  "kernelspec": {
   "display_name": "Python 3 (ipykernel)",
   "language": "python",
   "name": "python3"
  },
  "language_info": {
   "codemirror_mode": {
    "name": "ipython",
    "version": 3
   },
   "file_extension": ".py",
   "mimetype": "text/x-python",
   "name": "python",
   "nbconvert_exporter": "python",
   "pygments_lexer": "ipython3",
   "version": "3.11.5"
  }
 },
 "nbformat": 4,
 "nbformat_minor": 5
}
