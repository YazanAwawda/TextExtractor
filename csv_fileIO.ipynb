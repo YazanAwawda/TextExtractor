{
 "cells": [
  {
   "cell_type": "code",
   "execution_count": 240,
   "id": "2a4525b3",
   "metadata": {},
   "outputs": [],
   "source": [
    "import pandas as pd "
   ]
  },
  {
   "cell_type": "code",
   "execution_count": 241,
   "id": "6086bfdc",
   "metadata": {},
   "outputs": [],
   "source": [
    "df = pd.read_csv('C:\\\\Users\\\\Yazan\\\\Desktop\\\\psNo\\\\psps.csv', sep='\\t' , encoding='utf-8')"
   ]
  },
  {
   "cell_type": "code",
   "execution_count": 242,
   "id": "39d195b4",
   "metadata": {},
   "outputs": [],
   "source": [
    "df.rename(columns = {'phonesUncertain/0,\"phonesUncertain/1\",\"phonesUncertain/2\",\"phonesUncertain/3\",\"phonesUncertain/4\",\"phonesUncertain/5\",\"phonesUncertain/6\",\"phonesUncertain/7\",\"phonesUncertain/8\",\"phonesUncertain/9\",\"phonesUncertain/10\",\"phonesUncertain/11\",\"phonesUncertain/12\",\"phonesUncertain/13\",\"phonesUncertain/14\",\"phonesUncertain/15\",\"phonesUncertain/16\",\"phonesUncertain/17\",\"phonesUncertain/18\",\"phonesUncertain/19\",\"phonesUncertain/20\",\"phonesUncertain/21\",\"phonesUncertain/22\",\"phonesUncertain/23\",\"phonesUncertain/24\",\"phonesUncertain/25\",\"phonesUncertain/26\",\"phonesUncertain/27\",\"phonesUncertain/28\",\"phonesUncertain/29\",\"phonesUncertain/30\"' : 'ZA' } ,inplace = True)"
   ]
  },
  {
   "cell_type": "code",
   "execution_count": 243,
   "id": "580d0e33",
   "metadata": {},
   "outputs": [
    {
     "data": {
      "text/html": [
       "<div>\n",
       "<style scoped>\n",
       "    .dataframe tbody tr th:only-of-type {\n",
       "        vertical-align: middle;\n",
       "    }\n",
       "\n",
       "    .dataframe tbody tr th {\n",
       "        vertical-align: top;\n",
       "    }\n",
       "\n",
       "    .dataframe thead th {\n",
       "        text-align: right;\n",
       "    }\n",
       "</style>\n",
       "<table border=\"1\" class=\"dataframe\">\n",
       "  <thead>\n",
       "    <tr style=\"text-align: right;\">\n",
       "      <th></th>\n",
       "      <th>ZA</th>\n",
       "    </tr>\n",
       "  </thead>\n",
       "  <tbody>\n",
       "    <tr>\n",
       "      <th>0</th>\n",
       "      <td>009702951291,\"009702951461\",\"02-297645\",\"02222...</td>\n",
       "    </tr>\n",
       "    <tr>\n",
       "      <th>1</th>\n",
       "      <td>2024-2008,,,,,,,,,,,,,,,,,,,,,,,,,,,,,,</td>\n",
       "    </tr>\n",
       "    <tr>\n",
       "      <th>2</th>\n",
       "      <td>022291542,\"0599210071\",,,,,,,,,,,,,,,,,,,,,,,,...</td>\n",
       "    </tr>\n",
       "    <tr>\n",
       "      <th>3</th>\n",
       "      <td>2024-2008,,,,,,,,,,,,,,,,,,,,,,,,,,,,,,</td>\n",
       "    </tr>\n",
       "    <tr>\n",
       "      <th>4</th>\n",
       "      <td>50017400,,,,,,,,,,,,,,,,,,,,,,,,,,,,,,</td>\n",
       "    </tr>\n",
       "  </tbody>\n",
       "</table>\n",
       "</div>"
      ],
      "text/plain": [
       "                                                  ZA\n",
       "0  009702951291,\"009702951461\",\"02-297645\",\"02222...\n",
       "1            2024-2008,,,,,,,,,,,,,,,,,,,,,,,,,,,,,,\n",
       "2  022291542,\"0599210071\",,,,,,,,,,,,,,,,,,,,,,,,...\n",
       "3            2024-2008,,,,,,,,,,,,,,,,,,,,,,,,,,,,,,\n",
       "4             50017400,,,,,,,,,,,,,,,,,,,,,,,,,,,,,,"
      ]
     },
     "execution_count": 243,
     "metadata": {},
     "output_type": "execute_result"
    }
   ],
   "source": [
    "df.head()"
   ]
  },
  {
   "cell_type": "code",
   "execution_count": 244,
   "id": "97fa1ab8",
   "metadata": {},
   "outputs": [
    {
     "name": "stdout",
     "output_type": "stream",
     "text": [
      "0       009702951291,\"009702951461\",\"02-297645\",\"02222...\n",
      "1                 2024-2008,,,,,,,,,,,,,,,,,,,,,,,,,,,,,,\n",
      "2       022291542,\"0599210071\",,,,,,,,,,,,,,,,,,,,,,,,...\n",
      "3                 2024-2008,,,,,,,,,,,,,,,,,,,,,,,,,,,,,,\n",
      "4                  50017400,,,,,,,,,,,,,,,,,,,,,,,,,,,,,,\n",
      "                              ...                        \n",
      "2761                       ,,,,,,,,,,,,,,,,,,,,,,,,,,,,,,\n",
      "2762    80131904,\"+6553981\",\"+6556619\",\"0319.34009\",,,...\n",
      "2763                       ,,,,,,,,,,,,,,,,,,,,,,,,,,,,,,\n",
      "2764                       ,,,,,,,,,,,,,,,,,,,,,,,,,,,,,,\n",
      "2765                       ,,,,,,,,,,,,,,,,,,,,,,,,,,,,,,\n",
      "Name: ZA, Length: 2766, dtype: object\n"
     ]
    }
   ],
   "source": [
    "print(df['ZA'])"
   ]
  },
  {
   "cell_type": "code",
   "execution_count": 245,
   "id": "5380c11c",
   "metadata": {},
   "outputs": [],
   "source": [
    "df['ZA'].to_csv('PS_Lacked03.txt', sep=\"\\n\", index=False)\n"
   ]
  },
  {
   "cell_type": "code",
   "execution_count": 246,
   "id": "0c86652c",
   "metadata": {
    "scrolled": true
   },
   "outputs": [],
   "source": [
    "import re\n",
    "file_path = 'PS_Lacked03.txt'\n",
    "with open(file_path, 'r') as text_file:\n",
    "    for line in text_file:\n",
    "        # Use regular expression to match lines based on a pattern\n",
    "#         if re.search(r'059', line, re.IGNORECASE):\n",
    "#             print(line.strip())\n",
    "               if line.startswith('+972'):\n",
    "                     print(line.strip())"
   ]
  },
  {
   "cell_type": "code",
   "execution_count": null,
   "id": "652dc8cf",
   "metadata": {},
   "outputs": [],
   "source": []
  },
  {
   "cell_type": "code",
   "execution_count": null,
   "id": "e678fa4f",
   "metadata": {
    "scrolled": true
   },
   "outputs": [],
   "source": []
  },
  {
   "cell_type": "code",
   "execution_count": null,
   "id": "71477ce8",
   "metadata": {},
   "outputs": [],
   "source": []
  },
  {
   "cell_type": "code",
   "execution_count": null,
   "id": "7216af02",
   "metadata": {},
   "outputs": [],
   "source": []
  },
  {
   "cell_type": "code",
   "execution_count": null,
   "id": "8d5a0fd8",
   "metadata": {},
   "outputs": [],
   "source": []
  },
  {
   "cell_type": "code",
   "execution_count": null,
   "id": "7e7ab132",
   "metadata": {},
   "outputs": [],
   "source": []
  }
 ],
 "metadata": {
  "kernelspec": {
   "display_name": "Python 3 (ipykernel)",
   "language": "python",
   "name": "python3"
  },
  "language_info": {
   "codemirror_mode": {
    "name": "ipython",
    "version": 3
   },
   "file_extension": ".py",
   "mimetype": "text/x-python",
   "name": "python",
   "nbconvert_exporter": "python",
   "pygments_lexer": "ipython3",
   "version": "3.11.5"
  }
 },
 "nbformat": 4,
 "nbformat_minor": 5
}
